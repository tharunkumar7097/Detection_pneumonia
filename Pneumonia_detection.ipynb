{
  "nbformat": 4,
  "nbformat_minor": 0,
  "metadata": {
    "colab": {
      "provenance": [],
      "mount_file_id": "1RzkWctf-XZhuwSjaDwKjHwvnVKtWzmWE",
      "authorship_tag": "ABX9TyNu49I0baY8PCGx9CDUiDx7",
      "include_colab_link": true
    },
    "kernelspec": {
      "name": "python3",
      "display_name": "Python 3"
    },
    "language_info": {
      "name": "python"
    }
  },
  "cells": [
    {
      "cell_type": "markdown",
      "metadata": {
        "id": "view-in-github",
        "colab_type": "text"
      },
      "source": [
        "<a href=\"https://colab.research.google.com/github/tharunkumar7097/Detection_pneumonia/blob/main/Pneumonia_detection.ipynb\" target=\"_parent\"><img src=\"https://colab.research.google.com/assets/colab-badge.svg\" alt=\"Open In Colab\"/></a>"
      ]
    },
    {
      "cell_type": "code",
      "execution_count": 10,
      "metadata": {
        "id": "IyCjGKv9esEN"
      },
      "outputs": [],
      "source": [
        "import tensorflow as tf\n",
        "from tensorflow.keras.preprocessing.image import ImageDataGenerator\n",
        "from tensorflow.keras.models import Sequential\n",
        "from tensorflow.keras.layers import Conv2D, MaxPooling2D, Flatten, Dense\n"
      ]
    },
    {
      "cell_type": "code",
      "source": [
        "train_datagen = ImageDataGenerator(rescale=1./255,\n",
        "                                   shear_range=0.2,\n",
        "                                   zoom_range=0.2,\n",
        "                                   horizontal_flip=True)\n",
        "\n",
        "test_datagen = ImageDataGenerator(rescale=1./255)\n"
      ],
      "metadata": {
        "id": "EXRwLJIR72ew"
      },
      "execution_count": 5,
      "outputs": []
    },
    {
      "cell_type": "code",
      "source": [
        "img_width, img_height = 150, 150\n",
        "input_shape = (img_width, img_height, 3)\n",
        "batch_size = 32\n",
        "epochs = 10\n"
      ],
      "metadata": {
        "id": "eb7nAPQ_8AII"
      },
      "execution_count": 6,
      "outputs": []
    },
    {
      "cell_type": "code",
      "source": [
        "model = Sequential()\n",
        "model.add(Conv2D(32, (3, 3), activation='relu', input_shape=input_shape))\n",
        "model.add(MaxPooling2D((2, 2)))\n",
        "model.add(Conv2D(64, (3, 3), activation='relu'))\n",
        "model.add(MaxPooling2D((2, 2)))\n",
        "model.add(Conv2D(128, (3, 3), activation='relu'))\n",
        "model.add(MaxPooling2D((2, 2)))\n",
        "model.add(Conv2D(128, (3, 3), activation='relu'))\n",
        "model.add(MaxPooling2D((2, 2)))\n",
        "model.add(Flatten())\n",
        "model.add(Dense(128, activation='relu'))\n",
        "model.add(Dense(1, activation='sigmoid'))\n"
      ],
      "metadata": {
        "id": "wgMHd4_M8D-w"
      },
      "execution_count": 7,
      "outputs": []
    },
    {
      "cell_type": "code",
      "source": [
        "model.compile(optimizer='adam',\n",
        "              loss='binary_crossentropy',\n",
        "              metrics=['accuracy'])\n"
      ],
      "metadata": {
        "id": "D0nVAqY58KU_"
      },
      "execution_count": 8,
      "outputs": []
    },
    {
      "cell_type": "code",
      "source": [
        "train_dir = '/content/drive/MyDrive/dataset/chest_xray/train'\n",
        "validation_dir = '/content/drive/MyDrive/dataset/chest_xray/val'\n",
        "test_dir = '/content/drive/MyDrive/dataset/chest_xray/test'\n"
      ],
      "metadata": {
        "id": "LIvZqL5d8PuR"
      },
      "execution_count": 1,
      "outputs": []
    },
    {
      "cell_type": "code",
      "source": [
        "train_generator = train_datagen.flow_from_directory(train_dir,\n",
        "                                                    target_size=(img_width, img_height),\n",
        "                                                    batch_size=batch_size,\n",
        "                                                    class_mode='binary')\n",
        "\n",
        "validation_generator = test_datagen.flow_from_directory(validation_dir,\n",
        "                                                        target_size=(img_width, img_height),\n",
        "                                                        batch_size=batch_size,\n",
        "                                                        class_mode='binary')\n",
        "\n",
        "test_generator = test_datagen.flow_from_directory(test_dir,\n",
        "                                                  target_size=(img_width, img_height),\n",
        "                                                  batch_size=batch_size,\n",
        "                                                  class_mode='binary')\n"
      ],
      "metadata": {
        "colab": {
          "base_uri": "https://localhost:8080/",
          "height": 0
        },
        "id": "NF05RxmS8x7q",
        "outputId": "1727dcf4-860a-4154-a65e-ef514a805753"
      },
      "execution_count": 30,
      "outputs": [
        {
          "output_type": "stream",
          "name": "stdout",
          "text": [
            "Found 768 images belonging to 2 classes.\n",
            "Found 16 images belonging to 2 classes.\n",
            "Found 85 images belonging to 2 classes.\n"
          ]
        }
      ]
    },
    {
      "cell_type": "code",
      "source": [
        "model.fit(train_generator,\n",
        "          steps_per_epoch=train_generator.samples // batch_size,\n",
        "          epochs=epochs,\n",
        "          validation_data=validation_generator,\n",
        "          validation_steps=validation_generator.samples // batch_size)\n"
      ],
      "metadata": {
        "colab": {
          "base_uri": "https://localhost:8080/",
          "height": 0
        },
        "id": "ERuvLcdu9L8K",
        "outputId": "ce48f950-22d9-4753-b85a-81ed1c26e009"
      },
      "execution_count": 11,
      "outputs": [
        {
          "output_type": "stream",
          "name": "stdout",
          "text": [
            "Epoch 1/10\n",
            "24/24 [==============================] - 74s 3s/step - loss: 0.4144 - accuracy: 0.9062\n",
            "Epoch 2/10\n",
            "24/24 [==============================] - 51s 2s/step - loss: 0.3323 - accuracy: 0.9062\n",
            "Epoch 3/10\n",
            "24/24 [==============================] - 50s 2s/step - loss: 0.3145 - accuracy: 0.9062\n",
            "Epoch 4/10\n",
            "24/24 [==============================] - 51s 2s/step - loss: 0.2506 - accuracy: 0.9062\n",
            "Epoch 5/10\n",
            "24/24 [==============================] - 52s 2s/step - loss: 0.2568 - accuracy: 0.9193\n",
            "Epoch 6/10\n",
            "24/24 [==============================] - 50s 2s/step - loss: 0.1230 - accuracy: 0.9492\n",
            "Epoch 7/10\n",
            "24/24 [==============================] - 52s 2s/step - loss: 0.1043 - accuracy: 0.9531\n",
            "Epoch 8/10\n",
            "24/24 [==============================] - 52s 2s/step - loss: 0.1150 - accuracy: 0.9622\n",
            "Epoch 9/10\n",
            "24/24 [==============================] - 51s 2s/step - loss: 0.0848 - accuracy: 0.9714\n",
            "Epoch 10/10\n",
            "24/24 [==============================] - 52s 2s/step - loss: 0.0847 - accuracy: 0.9701\n"
          ]
        },
        {
          "output_type": "execute_result",
          "data": {
            "text/plain": [
              "<keras.callbacks.History at 0x7e68545a4730>"
            ]
          },
          "metadata": {},
          "execution_count": 11
        }
      ]
    },
    {
      "cell_type": "code",
      "source": [
        "loss, accuracy = model.evaluate(test_generator, steps=test_generator.samples // batch_size)\n",
        "print(f\"Test Loss: {loss:.4f}\")\n",
        "print(f\"Test Accuracy: {accuracy:.4f}\")\n"
      ],
      "metadata": {
        "id": "M-Lvc_9p_GY7",
        "outputId": "088de553-1d6c-4225-f028-48d528066eb3",
        "colab": {
          "base_uri": "https://localhost:8080/",
          "height": 0
        }
      },
      "execution_count": 12,
      "outputs": [
        {
          "output_type": "stream",
          "name": "stdout",
          "text": [
            "2/2 [==============================] - 11s 10s/step - loss: 0.2672 - accuracy: 0.9688\n",
            "Test Loss: 0.2672\n",
            "Test Accuracy: 0.9688\n"
          ]
        }
      ]
    },
    {
      "cell_type": "code",
      "source": [
        "from tensorflow.keras.preprocessing import image\n",
        "\n",
        "img_path = '/content/person92_bacteria_451.jpeg'\n",
        "img = image.load_img(img_path, target_size=(img_width, img_height))\n",
        "x = image.img_to_array(img)\n",
        "x = tf.expand_dims(x, axis=0)\n"
      ],
      "metadata": {
        "id": "KRNAAtuo_kbI"
      },
      "execution_count": 35,
      "outputs": []
    },
    {
      "cell_type": "code",
      "source": [
        "predictions = model.predict(x)\n",
        "if predictions[0][0] < 0.5:\n",
        "    print(\"Normal\")\n",
        "else:\n",
        "    print(\"Pneumonia\")\n"
      ],
      "metadata": {
        "id": "eD4CZRgv_nFp",
        "outputId": "ac4a9ebb-65d0-4b26-f7a4-cd36c5d26cea",
        "colab": {
          "base_uri": "https://localhost:8080/"
        }
      },
      "execution_count": 36,
      "outputs": [
        {
          "output_type": "stream",
          "name": "stdout",
          "text": [
            "1/1 [==============================] - 0s 39ms/step\n",
            "Pneumonia\n"
          ]
        }
      ]
    }
  ]
}